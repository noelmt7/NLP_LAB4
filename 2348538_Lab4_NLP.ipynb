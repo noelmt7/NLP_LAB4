{
  "nbformat": 4,
  "nbformat_minor": 0,
  "metadata": {
    "colab": {
      "provenance": [],
      "include_colab_link": true
    },
    "kernelspec": {
      "name": "python3",
      "display_name": "Python 3"
    },
    "language_info": {
      "name": "python"
    }
  },
  "cells": [
    {
      "cell_type": "markdown",
      "metadata": {
        "id": "view-in-github",
        "colab_type": "text"
      },
      "source": [
        "<a href=\"https://colab.research.google.com/github/noelmt7/NLP_LAB4/blob/main/2348538_Lab4_NLP.ipynb\" target=\"_parent\"><img src=\"https://colab.research.google.com/assets/colab-badge.svg\" alt=\"Open In Colab\"/></a>"
      ]
    },
    {
      "cell_type": "code",
      "execution_count": null,
      "metadata": {
        "id": "a6Pj_dFZKqrU"
      },
      "outputs": [],
      "source": [
        "import pandas as pd\n",
        "import numpy as np"
      ]
    },
    {
      "cell_type": "code",
      "source": [
        "words = ['light', 'run', 'charge', 'stream', 'point']"
      ],
      "metadata": {
        "id": "xoDKYdLaMJQQ"
      },
      "execution_count": null,
      "outputs": []
    },
    {
      "cell_type": "code",
      "source": [
        "from nltk.corpus import wordnet\n",
        "import nltk\n",
        "nltk.download('wordnet')\n",
        "\n",
        "synonyms = {}\n",
        "for word in words:\n",
        "    synonyms[word] = set()\n",
        "    for syn in wordnet.synsets(word):\n",
        "        for lemma in syn.lemmas():\n",
        "            synonyms[word].add(lemma.name())"
      ],
      "metadata": {
        "colab": {
          "base_uri": "https://localhost:8080/"
        },
        "id": "3fzDtz6LMsoY",
        "outputId": "21aaa9e6-344b-4391-dac5-63a532310f41"
      },
      "execution_count": null,
      "outputs": [
        {
          "output_type": "stream",
          "name": "stderr",
          "text": [
            "[nltk_data] Downloading package wordnet to /root/nltk_data...\n",
            "[nltk_data]   Package wordnet is already up-to-date!\n"
          ]
        }
      ]
    },
    {
      "cell_type": "code",
      "source": [
        "synonyms"
      ],
      "metadata": {
        "colab": {
          "base_uri": "https://localhost:8080/"
        },
        "id": "EMByByCpMvd4",
        "outputId": "2c8812cf-4c46-4070-fe87-cd598425d51e"
      },
      "execution_count": null,
      "outputs": [
        {
          "output_type": "execute_result",
          "data": {
            "text/plain": [
              "{'light': {'Christ_Within',\n",
              "  'Inner_Light',\n",
              "  'Light',\n",
              "  'Light_Within',\n",
              "  'abstemious',\n",
              "  'alight',\n",
              "  'brightness',\n",
              "  'brightness_level',\n",
              "  'calorie-free',\n",
              "  'clean',\n",
              "  'clear',\n",
              "  'dismount',\n",
              "  'easy',\n",
              "  'faint',\n",
              "  'fall',\n",
              "  'fire_up',\n",
              "  'get_down',\n",
              "  'get_off',\n",
              "  'idle',\n",
              "  'ignite',\n",
              "  'igniter',\n",
              "  'ignitor',\n",
              "  'illume',\n",
              "  'illuminate',\n",
              "  'illumination',\n",
              "  'illumine',\n",
              "  'light',\n",
              "  'light-colored',\n",
              "  'light-headed',\n",
              "  'light_source',\n",
              "  'light_up',\n",
              "  'lighter',\n",
              "  'lightheaded',\n",
              "  'lighting',\n",
              "  'lightly',\n",
              "  'lightness',\n",
              "  'lightsome',\n",
              "  'lite',\n",
              "  'loose',\n",
              "  'low-cal',\n",
              "  'luminance',\n",
              "  'luminosity',\n",
              "  'luminousness',\n",
              "  'perch',\n",
              "  'promiscuous',\n",
              "  'scant',\n",
              "  'short',\n",
              "  'sluttish',\n",
              "  'spark',\n",
              "  'sparkle',\n",
              "  'swooning',\n",
              "  'tripping',\n",
              "  'twinkle',\n",
              "  'unaccented',\n",
              "  'unclouded',\n",
              "  'unhorse',\n",
              "  'visible_light',\n",
              "  'visible_radiation',\n",
              "  'wakeful',\n",
              "  'wanton',\n",
              "  'weak'},\n",
              " 'run': {'be_given',\n",
              "  'black_market',\n",
              "  'bleed',\n",
              "  'break_away',\n",
              "  'bunk',\n",
              "  'campaign',\n",
              "  'carry',\n",
              "  'consort',\n",
              "  'course',\n",
              "  'die_hard',\n",
              "  'discharge',\n",
              "  'draw',\n",
              "  'endure',\n",
              "  'escape',\n",
              "  'execute',\n",
              "  'extend',\n",
              "  'feed',\n",
              "  'flow',\n",
              "  'fly_the_coop',\n",
              "  'foot_race',\n",
              "  'footrace',\n",
              "  'function',\n",
              "  'go',\n",
              "  'guide',\n",
              "  'head_for_the_hills',\n",
              "  'hightail_it',\n",
              "  'hunt',\n",
              "  'hunt_down',\n",
              "  'incline',\n",
              "  'ladder',\n",
              "  'lam',\n",
              "  'lead',\n",
              "  'lean',\n",
              "  'melt',\n",
              "  'melt_down',\n",
              "  'move',\n",
              "  'operate',\n",
              "  'outpouring',\n",
              "  'pass',\n",
              "  'persist',\n",
              "  'play',\n",
              "  'ply',\n",
              "  'political_campaign',\n",
              "  'prevail',\n",
              "  'race',\n",
              "  'range',\n",
              "  'ravel',\n",
              "  'rill',\n",
              "  'rivulet',\n",
              "  'run',\n",
              "  'run_away',\n",
              "  'run_for',\n",
              "  'runnel',\n",
              "  'running',\n",
              "  'running_game',\n",
              "  'running_play',\n",
              "  'scarper',\n",
              "  'scat',\n",
              "  'streak',\n",
              "  'streamlet',\n",
              "  'take_to_the_woods',\n",
              "  'tally',\n",
              "  'tend',\n",
              "  'test',\n",
              "  'track_down',\n",
              "  'trial',\n",
              "  'turn_tail',\n",
              "  'unravel',\n",
              "  'work'},\n",
              " 'charge': {'accusation',\n",
              "  'accuse',\n",
              "  'agitate',\n",
              "  'appoint',\n",
              "  'armorial_bearing',\n",
              "  'bang',\n",
              "  'bear_down',\n",
              "  'bearing',\n",
              "  'bill',\n",
              "  'billing',\n",
              "  'blame',\n",
              "  'boot',\n",
              "  'buck',\n",
              "  'burden',\n",
              "  'burster',\n",
              "  'bursting_charge',\n",
              "  'care',\n",
              "  'cathexis',\n",
              "  'charge',\n",
              "  'charge_up',\n",
              "  'commission',\n",
              "  'commit',\n",
              "  'commove',\n",
              "  'complaint',\n",
              "  'consign',\n",
              "  'direction',\n",
              "  'electric_charge',\n",
              "  'excite',\n",
              "  'explosive_charge',\n",
              "  'file',\n",
              "  'flush',\n",
              "  'guardianship',\n",
              "  'heraldic_bearing',\n",
              "  'institutionalise',\n",
              "  'institutionalize',\n",
              "  'kick',\n",
              "  'level',\n",
              "  'load',\n",
              "  'lodge',\n",
              "  'mission',\n",
              "  'point',\n",
              "  'rouse',\n",
              "  'rush',\n",
              "  'saddle',\n",
              "  'send',\n",
              "  'shoot',\n",
              "  'shoot_down',\n",
              "  'tear',\n",
              "  'thrill',\n",
              "  'turn_on',\n",
              "  'tutelage'},\n",
              " 'stream': {'current',\n",
              "  'flow',\n",
              "  'pelt',\n",
              "  'pour',\n",
              "  'pullulate',\n",
              "  'rain_buckets',\n",
              "  'rain_cats_and_dogs',\n",
              "  'stream',\n",
              "  'swarm',\n",
              "  'teem',\n",
              "  'watercourse',\n",
              "  'well_out'},\n",
              " 'point': {'aim',\n",
              "  'bespeak',\n",
              "  'betoken',\n",
              "  'breaker_point',\n",
              "  'channelise',\n",
              "  'channelize',\n",
              "  'charge',\n",
              "  'compass_point',\n",
              "  'decimal_point',\n",
              "  'degree',\n",
              "  'designate',\n",
              "  'detail',\n",
              "  'direct',\n",
              "  'distributor_point',\n",
              "  'dot',\n",
              "  'full_point',\n",
              "  'full_stop',\n",
              "  'guide',\n",
              "  'gunpoint',\n",
              "  'head',\n",
              "  'indicate',\n",
              "  'item',\n",
              "  'level',\n",
              "  'luff',\n",
              "  'maneuver',\n",
              "  'manoeuver',\n",
              "  'manoeuvre',\n",
              "  'orient',\n",
              "  'peak',\n",
              "  'percentage_point',\n",
              "  'period',\n",
              "  'place',\n",
              "  'point',\n",
              "  'point_in_time',\n",
              "  'pointedness',\n",
              "  'power_point',\n",
              "  'repoint',\n",
              "  'sharpen',\n",
              "  'show',\n",
              "  'signal',\n",
              "  'spot',\n",
              "  'stage',\n",
              "  'steer',\n",
              "  'stop',\n",
              "  'taper',\n",
              "  'target',\n",
              "  'tip'}}"
            ]
          },
          "metadata": {},
          "execution_count": 16
        }
      ]
    },
    {
      "cell_type": "code",
      "source": [
        "from nltk.corpus import wordnet\n",
        "import nltk\n",
        "nltk.download('wordnet')\n",
        "\n",
        "meanings = {}\n",
        "for word in words:\n",
        "    synsets = wordnet.synsets(word)\n",
        "\n",
        "    if len(synsets) >= 3:\n",
        "        third_meaning = synsets[2]\n",
        "        meanings[word] = third_meaning.definition()\n",
        "\n",
        "for word, meaning in meanings.items():\n",
        "    print(f\"3rd meaning for {word}: {meaning}\")\n"
      ],
      "metadata": {
        "colab": {
          "base_uri": "https://localhost:8080/"
        },
        "id": "TJxlhAu5Nc2r",
        "outputId": "5d8c8884-8058-4eb7-d9fc-f1a93c29a8ba"
      },
      "execution_count": null,
      "outputs": [
        {
          "output_type": "stream",
          "name": "stdout",
          "text": [
            "3rd meaning for light: a particular perspective or aspect of a situation\n",
            "3rd meaning for run: a race run on foot\n",
            "3rd meaning for charge: the price charged for some article or service\n",
            "3rd meaning for stream: the act of flowing or streaming; continuous progression\n",
            "3rd meaning for point: a brief version of the essential meaning of something\n"
          ]
        },
        {
          "output_type": "stream",
          "name": "stderr",
          "text": [
            "[nltk_data] Downloading package wordnet to /root/nltk_data...\n",
            "[nltk_data]   Package wordnet is already up-to-date!\n"
          ]
        }
      ]
    },
    {
      "cell_type": "code",
      "source": [
        "from nltk.corpus import wordnet\n",
        "import nltk\n",
        "nltk.download('wordnet')\n",
        "\n",
        "nouns = {}\n",
        "for word in words:\n",
        "    synsets = wordnet.synsets(word)\n",
        "    noun_synsets = [syn for syn in synsets if syn.pos() == 'n']\n",
        "\n",
        "    if noun_synsets:\n",
        "        noun_words = [lemma.name() for syn in noun_synsets for lemma in syn.lemmas()]\n",
        "        nouns[word] = noun_words\n",
        "\n",
        "for word, word_nouns in nouns.items():\n",
        "    print(f\"Nouns for {word}: {word_nouns}\")\n",
        "\n"
      ],
      "metadata": {
        "id": "taxAb1DUX9l9",
        "colab": {
          "base_uri": "https://localhost:8080/"
        },
        "outputId": "dd0fc663-6ce9-4949-add8-45845db94c2b"
      },
      "execution_count": null,
      "outputs": [
        {
          "output_type": "stream",
          "name": "stdout",
          "text": [
            "Nouns for light: ['light', 'visible_light', 'visible_radiation', 'light', 'light_source', 'light', 'luminosity', 'brightness', 'brightness_level', 'luminance', 'luminousness', 'light', 'light', 'light', 'illumination', 'light', 'lightness', 'light', 'light', 'lighting', 'light', 'sparkle', 'twinkle', 'spark', 'light', 'light', 'Inner_Light', 'Light', 'Light_Within', 'Christ_Within', 'light', 'lighter', 'light', 'igniter', 'ignitor']\n",
            "Nouns for run: ['run', 'tally', 'test', 'trial', 'run', 'footrace', 'foot_race', 'run', 'streak', 'run', 'run', 'running', 'running_play', 'running_game', 'run', 'run', 'running', 'run', 'run', 'run', 'rivulet', 'rill', 'run', 'runnel', 'streamlet', 'political_campaign', 'campaign', 'run', 'run', 'ladder', 'ravel', 'discharge', 'outpouring', 'run', 'run', 'run']\n",
            "Nouns for charge: ['charge', 'charge', 'complaint', 'charge', 'charge', 'electric_charge', 'care', 'charge', 'tutelage', 'guardianship', 'mission', 'charge', 'commission', 'charge', 'charge', 'cathexis', 'charge', 'bang', 'boot', 'charge', 'rush', 'flush', 'thrill', 'kick', 'charge', 'billing', 'commission', 'charge', 'direction', 'accusation', 'charge', 'charge', 'bearing', 'heraldic_bearing', 'armorial_bearing', 'charge', 'burster', 'bursting_charge', 'explosive_charge']\n",
            "Nouns for stream: ['stream', 'watercourse', 'stream', 'flow', 'current', 'flow', 'stream', 'stream', 'flow', 'current', 'stream']\n",
            "Nouns for point: ['point', 'point', 'point', 'detail', 'item', 'point', 'degree', 'level', 'stage', 'point', 'point', 'point_in_time', 'point', 'point', 'tip', 'peak', 'point', 'dot', 'point', 'point', 'item', 'point', 'point', 'point', 'spot', 'point', 'compass_point', 'point', 'point', 'point', 'period', 'point', 'full_stop', 'stop', 'full_point', 'point', 'head', 'decimal_point', 'percentage_point', 'point', 'point', 'pointedness', 'point', 'point', 'gunpoint', 'point', 'power_point', 'distributor_point', 'breaker_point', 'point']\n"
          ]
        },
        {
          "output_type": "stream",
          "name": "stderr",
          "text": [
            "[nltk_data] Downloading package wordnet to /root/nltk_data...\n",
            "[nltk_data]   Package wordnet is already up-to-date!\n"
          ]
        }
      ]
    },
    {
      "cell_type": "code",
      "source": [
        "verbs = {}\n",
        "for word in words:\n",
        "    synsets = wordnet.synsets(word)\n",
        "    verb_synsets = [syn for syn in synsets if syn.pos() == 'v']  # Filter only verb synsets\n",
        "\n",
        "    if verb_synsets:\n",
        "        verb_words = [lemma.name() for syn in verb_synsets for lemma in syn.lemmas()]\n",
        "        verbs[word] = verb_words\n",
        "\n",
        "for word, word_verbs in verbs.items():\n",
        "    print(f\"Verbs for {word}: {word_verbs}\")"
      ],
      "metadata": {
        "colab": {
          "base_uri": "https://localhost:8080/"
        },
        "id": "8DV5xVYbbiUc",
        "outputId": "fd43bba0-f56d-470a-cfd0-caecd3ac8709"
      },
      "execution_count": null,
      "outputs": [
        {
          "output_type": "stream",
          "name": "stdout",
          "text": [
            "Verbs for light: ['light', 'illume', 'illumine', 'light_up', 'illuminate', 'light_up', 'fire_up', 'light', 'alight', 'light', 'perch', 'ignite', 'light', 'fall', 'light', 'unhorse', 'dismount', 'light', 'get_off', 'get_down']\n",
            "Verbs for run: ['run', 'scat', 'run', 'scarper', 'turn_tail', 'lam', 'run_away', 'hightail_it', 'bunk', 'head_for_the_hills', 'take_to_the_woods', 'escape', 'fly_the_coop', 'break_away', 'run', 'go', 'pass', 'lead', 'extend', 'operate', 'run', 'run', 'go', 'run', 'flow', 'feed', 'course', 'function', 'work', 'operate', 'go', 'run', 'range', 'run', 'campaign', 'run', 'play', 'run', 'run', 'tend', 'be_given', 'lean', 'incline', 'run', 'run', 'run', 'run', 'run', 'prevail', 'persist', 'die_hard', 'run', 'endure', 'run', 'run', 'execute', 'carry', 'run', 'run', 'guide', 'run', 'draw', 'pass', 'run', 'lead', 'run', 'run', 'black_market', 'run', 'run', 'bleed', 'run', 'run', 'run', 'run_for', 'run', 'run', 'consort', 'run', 'run', 'ply', 'run', 'hunt', 'run', 'hunt_down', 'track_down', 'race', 'run', 'move', 'go', 'run', 'melt', 'run', 'melt_down', 'ladder', 'run', 'run', 'unravel']\n",
            "Verbs for charge: ['charge', 'bear_down', 'charge', 'accuse', 'charge', 'bill', 'tear', 'shoot', 'shoot_down', 'charge', 'buck', 'appoint', 'charge', 'charge', 'lodge', 'file', 'charge', 'charge', 'charge', 'commit', 'institutionalize', 'institutionalise', 'send', 'charge', 'consign', 'charge', 'charge', 'charge', 'agitate', 'rouse', 'turn_on', 'charge', 'commove', 'excite', 'charge_up', 'charge', 'load', 'charge', 'charge', 'level', 'point', 'charge', 'saddle', 'burden', 'charge', 'charge', 'blame', 'charge', 'charge', 'charge', 'charge', 'charge']\n",
            "Verbs for stream: ['stream', 'stream', 'pour', 'swarm', 'stream', 'teem', 'pullulate', 'pour', 'pelt', 'stream', 'rain_cats_and_dogs', 'rain_buckets', 'stream', 'well_out']\n",
            "Verbs for point: ['indicate', 'point', 'designate', 'show', 'orient', 'point', 'charge', 'level', 'point', 'steer', 'maneuver', 'manoeuver', 'manoeuvre', 'direct', 'point', 'head', 'guide', 'channelize', 'channelise', 'bespeak', 'betoken', 'indicate', 'point', 'signal', 'luff', 'point', 'point', 'point', 'point', 'point', 'target', 'aim', 'place', 'direct', 'point', 'point', 'sharpen', 'taper', 'point', 'point', 'repoint']\n"
          ]
        }
      ]
    },
    {
      "cell_type": "code",
      "source": [
        "\n",
        "adjectives = {}\n",
        "for word in words:\n",
        "    synsets = wordnet.synsets(word)\n",
        "    adjective_synsets = [syn for syn in synsets if syn.pos() == 'a']\n",
        "\n",
        "    if adjective_synsets:\n",
        "        adjective_words = [lemma.name() for syn in adjective_synsets for lemma in syn.lemmas()]\n",
        "        adjectives[word] = adjective_words\n",
        "\n",
        "\n",
        "for word, word_adjectives in adjectives.items():\n",
        "    print(f\"Adjectives for {word}: {word_adjectives}\")\n"
      ],
      "metadata": {
        "colab": {
          "base_uri": "https://localhost:8080/"
        },
        "id": "6p9ugsljahqQ",
        "outputId": "6879001b-e86e-41af-9574-2ab2c9a5ee10"
      },
      "execution_count": null,
      "outputs": [
        {
          "output_type": "stream",
          "name": "stdout",
          "text": [
            "Adjectives for light: ['light', 'light', 'light-colored', 'light', 'light', 'light', 'light', 'light', 'light']\n"
          ]
        }
      ]
    },
    {
      "cell_type": "code",
      "source": [
        "adverbs = {}\n",
        "for word in words:\n",
        "    synsets = wordnet.synsets(word)\n",
        "    adverb_synsets = [syn for syn in synsets if syn.pos() == 'r']  # Filter only adverb synsets\n",
        "\n",
        "    if adverb_synsets:\n",
        "        adverb_words = [lemma.name() for syn in adverb_synsets for lemma in syn.lemmas()]\n",
        "        adverbs[word] = adverb_words\n",
        "\n",
        "for word, word_adverbs in adverbs.items():\n",
        "    print(f\"Adverbs for {word}: {word_adverbs}\")"
      ],
      "metadata": {
        "colab": {
          "base_uri": "https://localhost:8080/"
        },
        "id": "z7WKht-bblU2",
        "outputId": "cd975970-42c6-42b7-86e5-ed0def9ff22e"
      },
      "execution_count": null,
      "outputs": [
        {
          "output_type": "stream",
          "name": "stdout",
          "text": [
            "Adverbs for light: ['lightly', 'light']\n"
          ]
        }
      ]
    },
    {
      "cell_type": "code",
      "source": [
        "definitions = {}\n",
        "for word in words:\n",
        "    synsets = wordnet.synsets(word)\n",
        "\n",
        "    if synsets:\n",
        "        first_synset = synsets[0]\n",
        "        definition = first_synset.definition()\n",
        "        definitions[word] = definition\n",
        "\n",
        "for word, word_definition in definitions.items():\n",
        "    print(f\"Definition of {word}: {word_definition}\")\n"
      ],
      "metadata": {
        "colab": {
          "base_uri": "https://localhost:8080/"
        },
        "id": "v8tmZYfebzrJ",
        "outputId": "0e1e34b0-3fcd-4cac-ddce-73af2d3b7e09"
      },
      "execution_count": null,
      "outputs": [
        {
          "output_type": "stream",
          "name": "stdout",
          "text": [
            "Definition of light: (physics) electromagnetic radiation that can produce a visual sensation\n",
            "Definition of run: a score in baseball made by a runner touching all four bases safely\n",
            "Definition of charge: an impetuous rush toward someone or something\n",
            "Definition of stream: a natural body of running water flowing on or under the earth\n",
            "Definition of point: a geometric element that has position but no extension\n"
          ]
        }
      ]
    },
    {
      "cell_type": "code",
      "source": [
        "hypernyms_dict = {}\n",
        "hyponyms_dict = {}\n",
        "\n",
        "for word in words:\n",
        "    synsets = wordnet.synsets(word)\n",
        "\n",
        "    if synsets:\n",
        "        first_synset = synsets[0]\n",
        "\n",
        "        hypernyms = first_synset.hypernyms()\n",
        "        hypernyms_words = [hypernym.name() for hypernym in hypernyms]\n",
        "        hypernyms_dict[word] = hypernyms_words\n",
        "\n",
        "        hyponyms = first_synset.hyponyms()\n",
        "        hyponyms_words = [hyponym.name() for hyponym in hyponyms]\n",
        "        hyponyms_dict[word] = hyponyms_words\n",
        "\n",
        "for word in words:\n",
        "    print(f\"Word: {word}\")\n",
        "    print(f\"Hypernyms: {hypernyms_dict[word]}\")\n",
        "    print(f\"Hyponyms: {hyponyms_dict[word]}\")\n",
        "    print(\"\\n\")\n"
      ],
      "metadata": {
        "colab": {
          "base_uri": "https://localhost:8080/"
        },
        "id": "uRxc73kYef2K",
        "outputId": "07418e60-d05c-4193-c1ce-f32758595a33"
      },
      "execution_count": null,
      "outputs": [
        {
          "output_type": "stream",
          "name": "stdout",
          "text": [
            "Word: light\n",
            "Hypernyms: ['actinic_radiation.n.01']\n",
            "Hyponyms: ['beam.n.04', 'candlelight.n.01', 'corona.n.04', 'counterglow.n.01', 'daylight.n.02', 'firelight.n.01', 'fluorescence.n.01', \"friar's_lantern.n.01\", 'gaslight.n.01', 'glow.n.05', 'half-light.n.01', 'incandescence.n.01', 'lamplight.n.01', 'luminescence.n.01', 'meteor.n.02', 'moonlight.n.01', 'radiance.n.01', 'scintillation.n.01', 'starlight.n.01', 'streamer.n.01', 'sunlight.n.01', 'torchlight.n.01', 'twilight.n.02']\n",
            "\n",
            "\n",
            "Word: run\n",
            "Hypernyms: ['score.n.10']\n",
            "Hyponyms: ['earned_run.n.01', 'run_batted_in.n.01', 'unearned_run.n.01']\n",
            "\n",
            "\n",
            "Word: charge\n",
            "Hypernyms: ['attack.n.01']\n",
            "Hyponyms: ['countercharge.n.02']\n",
            "\n",
            "\n",
            "Word: stream\n",
            "Hypernyms: ['body_of_water.n.01']\n",
            "Hyponyms: ['branch.n.05', 'brook.n.01', 'headstream.n.01', 'river.n.01', 'rivulet.n.01', 'tidal_river.n.01']\n",
            "\n",
            "\n",
            "Word: point\n",
            "Hypernyms: ['component.n.01']\n",
            "Hyponyms: ['attractor.n.02', 'intercept.n.01', 'intersection.n.01']\n",
            "\n",
            "\n"
          ]
        }
      ]
    },
    {
      "cell_type": "code",
      "source": [
        "from nltk.corpus import wordnet\n",
        "import nltk\n",
        "nltk.download('wordnet')\n",
        "\n",
        "def find_one_hyponym_pair_similarity(word):\n",
        "    synsets = wordnet.synsets(word)\n",
        "\n",
        "    if synsets:\n",
        "        first_synset = synsets[0]\n",
        "        hyponyms = first_synset.hyponyms()\n",
        "        if len(hyponyms) >= 2:\n",
        "            hyponym1, hyponym2 = hyponyms[:2]\n",
        "            similarity = hyponym1.path_similarity(hyponym2)\n",
        "            return hyponym1.name(), hyponym2.name(), similarity\n",
        "        else:\n",
        "            return f\"{word} has fewer than two hyponyms\", None, None\n",
        "\n",
        "for word in words:\n",
        "    hyponym1, hyponym2, similarity = find_one_hyponym_pair_similarity(word)\n",
        "    print(f\"Word: {word}\")\n",
        "    if hyponym1:\n",
        "        print(f\"Hyponym 1: {hyponym1}\")\n",
        "        print(f\"Hyponym 2: {hyponym2}\")\n",
        "        print(f\"Similarity: {similarity}\")"
      ],
      "metadata": {
        "colab": {
          "base_uri": "https://localhost:8080/"
        },
        "id": "Xa3cEVo9crrS",
        "outputId": "9f06b3e7-47b8-4c4a-b683-b0793a806047"
      },
      "execution_count": null,
      "outputs": [
        {
          "output_type": "stream",
          "name": "stdout",
          "text": [
            "Word: light\n",
            "Hyponym 1: beam.n.04\n",
            "Hyponym 2: candlelight.n.01\n",
            "Similarity: 0.3333333333333333\n",
            "Word: run\n",
            "Hyponym 1: earned_run.n.01\n",
            "Hyponym 2: run_batted_in.n.01\n",
            "Similarity: 0.3333333333333333\n",
            "Word: charge\n",
            "Hyponym 1: charge has fewer than two hyponyms\n",
            "Hyponym 2: None\n",
            "Similarity: None\n",
            "Word: stream\n",
            "Hyponym 1: branch.n.05\n",
            "Hyponym 2: brook.n.01\n",
            "Similarity: 0.3333333333333333\n",
            "Word: point\n",
            "Hyponym 1: attractor.n.02\n",
            "Hyponym 2: intercept.n.01\n",
            "Similarity: 0.3333333333333333\n"
          ]
        },
        {
          "output_type": "stream",
          "name": "stderr",
          "text": [
            "[nltk_data] Downloading package wordnet to /root/nltk_data...\n",
            "[nltk_data]   Package wordnet is already up-to-date!\n"
          ]
        }
      ]
    }
  ]
}